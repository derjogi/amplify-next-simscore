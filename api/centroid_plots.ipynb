{
 "cells": [
  {
   "cell_type": "code",
   "execution_count": null,
   "metadata": {},
   "outputs": [],
   "source": [
    "# Install dependencies on Jupyter\n",
    "%pip install nltk   # In Analyzer.py"
   ]
  },
  {
   "cell_type": "code",
   "execution_count": null,
   "metadata": {
    "ExecuteTime": {
     "end_time": "2024-05-13T11:15:18.112228Z",
     "start_time": "2024-05-13T11:15:18.104320Z"
    },
    "collapsed": false,
    "trusted": true
   },
   "outputs": [],
   "source": [
    "# Imports (if running in JupyterLite this might take a while)\n",
    "import numpy as np\n",
    "import matplotlib.pyplot as plt\n",
    "from matplotlib.collections import LineCollection\n",
    "from sklearn import manifold\n",
    "from sklearn.metrics import euclidean_distances\n",
    "from sklearn.feature_extraction.text import CountVectorizer, TfidfVectorizer\n",
    "from sklearn.metrics.pairwise import cosine_similarity, pairwise_distances\n",
    "from scipy.integrate import odeint\n",
    "# Things for preprocessing the ideas (cleaning up the text)\n",
    "from nltk.corpus import stopwords, wordnet\n",
    "from nltk.tokenize import word_tokenize\n",
    "from nltk.stem import WordNetLemmatizer"
   ]
  },
  {
   "cell_type": "code",
   "execution_count": null,
   "metadata": {
    "ExecuteTime": {
     "end_time": "2024-05-13T11:15:18.132234Z",
     "start_time": "2024-05-13T11:15:18.115348Z"
    }
   },
   "outputs": [],
   "source": [
    "# IDEA INPUT\n",
    "# decide how you want to enter ideas by setting any of the following variables to True or false.\n",
    "# If none of them is True, then we assume the ideas are provided in the code.\n",
    "\n",
    "enter_ideas_manually = False\n",
    "enter_ideas_from_csv = True\n",
    "\n",
    "ideas = []\n",
    "if enter_ideas_manually:\n",
    "    print(\"Enter ideas. You can enter them one-by-one, or enter them all at once, separated with a newline. Stop by typing 'exit'\")\n",
    "    while answer.lower != \"exit\":\n",
    "        answer = input()\n",
    "        ideas.extend([idea for idea in answer.split('\\n') if idea.strip() and idea != \"exit\"])\n",
    "\n",
    "if enter_ideas_from_csv:\n",
    "    import ipywidgets as widgets\n",
    "    from IPython.display import display\n",
    "\n",
    "    file_upload = widgets.FileUpload()\n",
    "\n",
    "    display(file_upload)"
   ]
  },
  {
   "cell_type": "code",
   "execution_count": null,
   "metadata": {},
   "outputs": [],
   "source": [
    "if enter_ideas_from_csv and len(file_upload.value) > 0:\n",
    "    uploaded = file_upload.value[0]\n",
    "    import codecs\n",
    "    content = codecs.decode(uploaded.content, encoding=\"utf-8\")\n",
    "    ideas = content.split('\\n')"
   ]
  },
  {
   "cell_type": "code",
   "execution_count": null,
   "metadata": {},
   "outputs": [],
   "source": [
    "if len(ideas) == 0:\n",
    "    ideas = [\n",
    "        \"Placeholder ideas in case you want to enter some manually here\",\n",
    "        \"This will only be used if there's no file provided\"\n",
    "    ]\n",
    "    \n",
    "print('Ideas: ', ideas)"
   ]
  },
  {
   "cell_type": "markdown",
   "metadata": {},
   "source": [
    "### Preprocessing steps to clean the data"
   ]
  },
  {
   "cell_type": "code",
   "execution_count": null,
   "metadata": {
    "ExecuteTime": {
     "end_time": "2024-05-13T11:15:18.132952Z",
     "start_time": "2024-05-13T11:15:18.121388Z"
    },
    "collapsed": false,
    "trusted": true
   },
   "outputs": [],
   "source": [
    "from Analyzer import Analyzer\n",
    "from IPython.display import display, FileLink\n",
    "import os\n",
    "import csv\n",
    "\n",
    "# Initialize CountVectorizer to convert text into numerical vectors\n",
    "count_vectorizer = CountVectorizer()\n",
    "count_analyzer = Analyzer(ideas, count_vectorizer)\n",
    "count_analyzer.process_all()\n",
    "\n",
    "file_path = os.path.join(os.getcwd(), 'CountVectorizer_ideas_similarity_distance.csv')\n",
    "similarity = count_analyzer.get_similarity()\n",
    "distance = count_analyzer.get_distance()\n",
    "with open(file_path, 'w', newline=\"\") as f:\n",
    "    writer = csv.writer(f, delimiter=\"|\", quoting=csv.QUOTE_ALL)\n",
    "    header = [\"#\", \"Idea\", \"Cos Similarity\", \"Dist to centroid\"]\n",
    "    writer.writerow(header)\n",
    "    print(header)\n",
    "    for i, idea in enumerate(count_analyzer.get_ideas()):\n",
    "        line = [i+1, idea,round(similarity[i][0], 2), round(distance[i][0], 2)]\n",
    "        writer.writerow(line)\n",
    "        print(line)\n",
    "\n",
    "local_file = FileLink(file_path, result_html_prefix=\"Click here to download: \")\n",
    "display(local_file)\n",
    "\n",
    "\n",
    "# Vectorize the text using TF-IDF\n",
    "# On long ideas, this has much higher similarities than CountVectorizer \n",
    "# with minimal differences, which makes it harder to make sense of it\n",
    "\n",
    "# tfidf_vectorizer = TfidfVectorizer()\n",
    "# tfidf_analyzer = Analyzer(ideas, tfidf_vectorizer)\n",
    "# tfidf_analyzer.process_all()"
   ]
  }
 ],
 "metadata": {
  "kernelspec": {
   "display_name": "venv-3.12",
   "language": "python",
   "name": "python3"
  },
  "language_info": {
   "codemirror_mode": {
    "name": "ipython",
    "version": 3
   },
   "file_extension": ".py",
   "mimetype": "text/x-python",
   "name": "python",
   "nbconvert_exporter": "python",
   "pygments_lexer": "ipython3",
   "version": "3.12.2"
  }
 },
 "nbformat": 4,
 "nbformat_minor": 4
}
